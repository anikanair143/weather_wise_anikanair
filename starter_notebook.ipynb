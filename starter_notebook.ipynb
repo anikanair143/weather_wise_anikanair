{
  "cells": [
    {
      "cell_type": "markdown",
      "metadata": {
        "id": "view-in-github",
        "colab_type": "text"
      },
      "source": [
        "<a href=\"https://colab.research.google.com/github/anikanair143/weather_wise_anikanair/blob/main/starter_notebook.ipynb\" target=\"_parent\"><img src=\"https://colab.research.google.com/assets/colab-badge.svg\" alt=\"Open In Colab\"/></a>"
      ]
    },
    {
      "cell_type": "markdown",
      "id": "72e78a05",
      "metadata": {
        "id": "72e78a05"
      },
      "source": [
        "# 🌦️ WeatherWise – Starter Notebook\n",
        "\n",
        "Welcome to your **WeatherWise** project notebook! This scaffold is designed to help you build your weather advisor app using Python, visualisations, and AI-enhanced development.\n",
        "\n",
        "---\n",
        "\n",
        "📄 **Full Assignment Specification**  \n",
        "See [`ASSIGNMENT.md`](ASSIGNMENT.md) or check the LMS for full details.\n",
        "\n",
        "📝 **Quick Refresher**  \n",
        "A one-page summary is available in [`resources/assignment-summary.md`](resources/assignment-summary.md).\n",
        "\n",
        "---\n",
        "\n",
        "🧠 **This Notebook Structure is Optional**  \n",
        "You’re encouraged to reorganise, rename sections, or remove scaffold cells if you prefer — as long as your final version meets the requirements.\n",
        "\n",
        "✅ You may delete this note before submission.\n",
        "\n"
      ]
    },
    {
      "cell_type": "markdown",
      "id": "fa8c7f6c",
      "metadata": {
        "id": "fa8c7f6c"
      },
      "source": [
        "## 🧰 Setup and Imports\n",
        "\n",
        "This section imports commonly used packages and installs any additional tools used in the project.\n",
        "\n",
        "- You may not need all of these unless you're using specific features (e.g. visualisations, advanced prompting).\n",
        "- The notebook assumes the following packages are **pre-installed** in the provided environment or installable via pip:\n",
        "  - `requests`, `matplotlib`, `pyinputplus`\n",
        "  - `fetch-my-weather` (for accessing weather data easily)\n",
        "  - `hands-on-ai` (for AI logging, comparisons, or prompting tools)\n",
        "\n",
        "If you're running this notebook in **Google Colab**, uncomment the following lines to install the required packages.\n"
      ]
    },
    {
      "cell_type": "code",
      "execution_count": null,
      "id": "70c3f3f1",
      "metadata": {
        "id": "70c3f3f1",
        "colab": {
          "base_uri": "https://localhost:8080/"
        },
        "outputId": "ff74ad95-ea69-47b4-aaa5-e13aa83f1345"
      },
      "outputs": [
        {
          "output_type": "stream",
          "name": "stdout",
          "text": [
            "Collecting fetch-my-weather\n",
            "  Downloading fetch_my_weather-0.4.0-py3-none-any.whl.metadata (12 kB)\n",
            "Requirement already satisfied: requests>=2.25.0 in /usr/local/lib/python3.12/dist-packages (from fetch-my-weather) (2.32.4)\n",
            "Requirement already satisfied: pydantic>=1.8.0 in /usr/local/lib/python3.12/dist-packages (from fetch-my-weather) (2.11.10)\n",
            "Requirement already satisfied: annotated-types>=0.6.0 in /usr/local/lib/python3.12/dist-packages (from pydantic>=1.8.0->fetch-my-weather) (0.7.0)\n",
            "Requirement already satisfied: pydantic-core==2.33.2 in /usr/local/lib/python3.12/dist-packages (from pydantic>=1.8.0->fetch-my-weather) (2.33.2)\n",
            "Requirement already satisfied: typing-extensions>=4.12.2 in /usr/local/lib/python3.12/dist-packages (from pydantic>=1.8.0->fetch-my-weather) (4.15.0)\n",
            "Requirement already satisfied: typing-inspection>=0.4.0 in /usr/local/lib/python3.12/dist-packages (from pydantic>=1.8.0->fetch-my-weather) (0.4.2)\n",
            "Requirement already satisfied: charset_normalizer<4,>=2 in /usr/local/lib/python3.12/dist-packages (from requests>=2.25.0->fetch-my-weather) (3.4.3)\n",
            "Requirement already satisfied: idna<4,>=2.5 in /usr/local/lib/python3.12/dist-packages (from requests>=2.25.0->fetch-my-weather) (3.10)\n",
            "Requirement already satisfied: urllib3<3,>=1.21.1 in /usr/local/lib/python3.12/dist-packages (from requests>=2.25.0->fetch-my-weather) (2.5.0)\n",
            "Requirement already satisfied: certifi>=2017.4.17 in /usr/local/lib/python3.12/dist-packages (from requests>=2.25.0->fetch-my-weather) (2025.10.5)\n",
            "Downloading fetch_my_weather-0.4.0-py3-none-any.whl (17 kB)\n",
            "Installing collected packages: fetch-my-weather\n",
            "Successfully installed fetch-my-weather-0.4.0\n"
          ]
        }
      ],
      "source": [
        "# 🧪 Optional packages — uncomment if needed in Colab or JupyterHub\n",
        "!pip install fetch-my-weather\n",
        "!pip install hands-on-ai\n"
      ]
    },
    {
      "cell_type": "code",
      "source": [
        "import os\n",
        "\n",
        "os.environ['HANDS_ON_AI_SERVER'] = 'http://ollama.serveur.au'\n",
        "os.environ['HANDS_ON_AI_MODEL'] = 'granite3.2'\n",
        "os.environ['HANDS_ON_AI_API_KEY'] = input('Enter your API key: ')"
      ],
      "metadata": {
        "id": "B2JKlJfrGgIb"
      },
      "id": "B2JKlJfrGgIb",
      "execution_count": null,
      "outputs": []
    },
    {
      "cell_type": "markdown",
      "id": "59ae7543",
      "metadata": {
        "id": "59ae7543"
      },
      "source": [
        "## 📦 Setup and Configuration\n",
        "Import required packages and setup environment."
      ]
    },
    {
      "cell_type": "code",
      "execution_count": null,
      "id": "f1dd051e",
      "metadata": {
        "id": "f1dd051e"
      },
      "outputs": [],
      "source": [
        "# Setup and Imports packages and setup libraries\n",
        "\n",
        "!pip install fetch-my-weather\n",
        "!pip install hands-on-ai\n",
        "!pip install pyinputplus\n",
        "!pip install matplotlib\n",
        "\n",
        "# import\n",
        "import os\n",
        "import requests\n",
        "import matplotlib.pyplot as plt\n",
        "import pyinputplus as pyip\n",
        "\n",
        "# Weather packages\n",
        "from fetch_my_weather import get_weather\n",
        "\n",
        "# AI tool for conversations\n",
        "from hands_on_ai.chat import get_response\n",
        "\n",
        "# Configure AI environment variables (replace with your API key)\n",
        "os.environ['HANDS_ON_AI_SERVER'] = 'http://ollama.serveur.au'\n",
        "os.environ['HANDS_ON_AI_MODEL'] = 'granite3.2'\n",
        "os.environ['HANDS_ON_AI_API_KEY'] = input('Enter your API key: ')\n",
        "\n",
        "print(\"Setup complete! All packages imported.\")\n"
      ]
    },
    {
      "cell_type": "markdown",
      "id": "f736ade3",
      "metadata": {
        "id": "f736ade3"
      },
      "source": [
        "## 🌤️ Weather Data Functions"
      ]
    },
    {
      "cell_type": "code",
      "execution_count": null,
      "id": "7a2c7cd0",
      "metadata": {
        "id": "7a2c7cd0"
      },
      "outputs": [],
      "source": [
        "# Define get_weather_data() function here\n",
        "def get_weather_data(location, forecast_days=5):\n",
        "    \"\"\"\n",
        "    Retrieve weather data for a specified location.\n",
        "\n",
        "    Args:\n",
        "        location (str): City or location name\n",
        "        forecast_days (int): Number of days to forecast (1-5)\n",
        "\n",
        "    Returns:\n",
        "        dict: Weather data including current conditions and forecast\n",
        "    \"\"\"\n",
        "    pass"
      ]
    },
    {
      "cell_type": "markdown",
      "id": "8a744fdc",
      "metadata": {
        "id": "8a744fdc"
      },
      "source": [
        "## 📊 Visualisation Functions"
      ]
    },
    {
      "cell_type": "code",
      "execution_count": null,
      "id": "9dc3bf85",
      "metadata": {
        "id": "9dc3bf85"
      },
      "outputs": [],
      "source": [
        "# Define create_temperature_visualisation() and create_precipitation_visualisation() here\n",
        "def create_temperature_visualisation(weather_data, output_type='display'):\n",
        "    \"\"\"\n",
        "    Create visualisation of temperature data.\n",
        "\n",
        "    Args:\n",
        "        weather_data (dict): The processed weather data\n",
        "        output_type (str): Either 'display' to show in notebook or 'figure' to return the figure\n",
        "\n",
        "    Returns:\n",
        "        If output_type is 'figure', returns the matplotlib figure object\n",
        "        Otherwise, displays the visualisation in the notebook\n",
        "    \"\"\"\n",
        "    pass\n"
      ]
    },
    {
      "cell_type": "code",
      "source": [
        "\n",
        "def create_precipitation_visualisation(weather_data, output_type='display'):\n",
        "    \"\"\"\n",
        "    Create visualisation of precipitation data.\n",
        "\n",
        "    Args:\n",
        "        weather_data (dict): The processed weather data\n",
        "        output_type (str): Either 'display' to show in notebook or 'figure' to return the figure\n",
        "\n",
        "    Returns:\n",
        "        If output_type is 'figure', returns the matplotlib figure object\n",
        "        Otherwise, displays the visualisation in the notebook\n",
        "    \"\"\"\n",
        "    pass"
      ],
      "metadata": {
        "id": "HpOlQylYG5Ho"
      },
      "id": "HpOlQylYG5Ho",
      "execution_count": null,
      "outputs": []
    },
    {
      "cell_type": "markdown",
      "id": "9f95d160",
      "metadata": {
        "id": "9f95d160"
      },
      "source": [
        "## 🤖 Natural Language Processing"
      ]
    },
    {
      "cell_type": "code",
      "execution_count": null,
      "id": "bcc5833e",
      "metadata": {
        "id": "bcc5833e"
      },
      "outputs": [],
      "source": [
        "# Define parse_weather_question() and generate_weather_response() here\n",
        "def parse_weather_question(question):\n",
        "    \"\"\"\n",
        "    Parse a natural language weather question.\n",
        "\n",
        "    Args:\n",
        "        question (str): User's weather-related question\n",
        "\n",
        "    Returns:\n",
        "        dict: Extracted information including location, time period, and weather attribute\n",
        "    \"\"\"\n",
        "    pass"
      ]
    },
    {
      "cell_type": "markdown",
      "id": "0d85225e",
      "metadata": {
        "id": "0d85225e"
      },
      "source": [
        "## 🧭 User Interface"
      ]
    },
    {
      "cell_type": "code",
      "execution_count": null,
      "id": "fa6cb0f6",
      "metadata": {
        "id": "fa6cb0f6"
      },
      "outputs": [],
      "source": [
        "# Define menu functions using pyinputplus or ipywidgets here"
      ]
    },
    {
      "cell_type": "markdown",
      "id": "d643a53c",
      "metadata": {
        "id": "d643a53c"
      },
      "source": [
        "## 🧩 Main Application Logic"
      ]
    },
    {
      "cell_type": "code",
      "execution_count": null,
      "id": "a9e2e805",
      "metadata": {
        "id": "a9e2e805"
      },
      "outputs": [],
      "source": [
        "# Tie everything together here\n",
        "def generate_weather_response(parsed_question, weather_data):\n",
        "    \"\"\"\n",
        "    Generate a natural language response to a weather question.\n",
        "\n",
        "    Args:\n",
        "        parsed_question (dict): Parsed question data\n",
        "        weather_data (dict): Weather data\n",
        "\n",
        "    Returns:\n",
        "        str: Natural language response\n",
        "    \"\"\"\n",
        "    pass"
      ]
    },
    {
      "cell_type": "markdown",
      "id": "fde44479",
      "metadata": {
        "id": "fde44479"
      },
      "source": [
        "## 🧪 Testing and Examples"
      ]
    },
    {
      "cell_type": "code",
      "execution_count": null,
      "id": "4e573901",
      "metadata": {
        "id": "4e573901"
      },
      "outputs": [],
      "source": [
        "# Include sample input/output for each function"
      ]
    },
    {
      "cell_type": "markdown",
      "id": "d2885880",
      "metadata": {
        "id": "d2885880"
      },
      "source": [
        "## 🗂️ AI Prompting Log (Optional)\n",
        "Add markdown cells here summarising prompts used or link to AI conversations in the `ai-conversations/` folder."
      ]
    }
  ],
  "metadata": {
    "language_info": {
      "name": "python"
    },
    "colab": {
      "provenance": [],
      "include_colab_link": true
    },
    "kernelspec": {
      "name": "python3",
      "display_name": "Python 3"
    }
  },
  "nbformat": 4,
  "nbformat_minor": 5
}