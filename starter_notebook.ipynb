{
  "cells": [
    {
      "cell_type": "markdown",
      "metadata": {
        "id": "view-in-github",
        "colab_type": "text"
      },
      "source": [
        "<a href=\"https://colab.research.google.com/github/anikanair143/weather_wise_anikanair/blob/main/starter_notebook.ipynb\" target=\"_parent\"><img src=\"https://colab.research.google.com/assets/colab-badge.svg\" alt=\"Open In Colab\"/></a>"
      ]
    },
    {
      "cell_type": "markdown",
      "id": "72e78a05",
      "metadata": {
        "id": "72e78a05"
      },
      "source": [
        "# 🌦️ WeatherWise – Starter Notebook\n",
        "\n",
        "Welcome to your **WeatherWise** project notebook! This scaffold is designed to help you build your weather advisor app using Python, visualisations, and AI-enhanced development.\n",
        "\n",
        "---\n",
        "\n",
        "📄 **Full Assignment Specification**  \n",
        "See [`ASSIGNMENT.md`](ASSIGNMENT.md) or check the LMS for full details.\n",
        "\n",
        "📝 **Quick Refresher**  \n",
        "A one-page summary is available in [`resources/assignment-summary.md`](resources/assignment-summary.md).\n",
        "\n",
        "---\n",
        "\n",
        "🧠 **This Notebook Structure is Optional**  \n",
        "You’re encouraged to reorganise, rename sections, or remove scaffold cells if you prefer — as long as your final version meets the requirements.\n",
        "\n",
        "✅ You may delete this note before submission.\n",
        "\n"
      ]
    },
    {
      "cell_type": "markdown",
      "id": "fa8c7f6c",
      "metadata": {
        "id": "fa8c7f6c"
      },
      "source": [
        "## 🧰 Setup and Imports\n",
        "\n",
        "This section imports commonly used packages and installs any additional tools used in the project.\n",
        "\n",
        "- You may not need all of these unless you're using specific features (e.g. visualisations, advanced prompting).\n",
        "- The notebook assumes the following packages are **pre-installed** in the provided environment or installable via pip:\n",
        "  - `requests`, `matplotlib`, `pyinputplus`\n",
        "  - `fetch-my-weather` (for accessing weather data easily)\n",
        "  - `hands-on-ai` (for AI logging, comparisons, or prompting tools)\n",
        "\n",
        "If you're running this notebook in **Google Colab**, uncomment the following lines to install the required packages.\n"
      ]
    },
    {
      "cell_type": "markdown",
      "id": "59ae7543",
      "metadata": {
        "id": "59ae7543"
      },
      "source": [
        "## 📦 Setup and Configuration\n",
        "Import required packages and setup environment."
      ]
    },
    {
      "cell_type": "code",
      "execution_count": null,
      "id": "f1dd051e",
      "metadata": {
        "id": "f1dd051e"
      },
      "outputs": [],
      "source": [
        "# Setup and Import packages and libraries\n",
        "\n",
        "!pip install fetch-my-weather\n",
        "# !pip install hands-on-ai\n",
        "!pip install pyinputplus\n",
        "!pip install matplotlib\n",
        "\n",
        "# import\n",
        "# import os\n",
        "import requests\n",
        "import matplotlib.pyplot as plt\n",
        "import pyinputplus as pyip\n",
        "# import Weather packages\n",
        "from fetch_my_weather import get_weather\n",
        "\n",
        "print(\"Setup complete!\")\n"
      ]
    },
    {
      "cell_type": "markdown",
      "id": "f736ade3",
      "metadata": {
        "id": "f736ade3"
      },
      "source": [
        "## 🌤️ Weather Data Functions"
      ]
    },
    {
      "cell_type": "code",
      "execution_count": null,
      "id": "7a2c7cd0",
      "metadata": {
        "id": "7a2c7cd0"
      },
      "outputs": [],
      "source": [
        "# Define get_weather_data() function here\n",
        "# from fetch_my_weather import get_weather\n",
        "\n",
        "# response = get_weather(\"Perth\")\n",
        "# print(response)       # See the raw output\n",
        "# print(dir(response))  # List all attributes and methods\n",
        "\n",
        "def get_weather_data(location, forecast_days=5):\n",
        "    \"\"\"\n",
        "    Safely retrieve weather data for a location using fetch-my-weather.\n",
        "\n",
        "    Returns a dictionary with:\n",
        "    - 'location': name of the city\n",
        "    - 'current': dict of temperature, condition, humidity\n",
        "    - 'forecast': list of forecast dictionaries\n",
        "    \"\"\"\n",
        "    try:\n",
        "        response = get_weather(location)\n",
        "\n",
        "        # Safe access\n",
        "        current = getattr(response, 'current_weather', None)\n",
        "        forecast_list = getattr(response, 'forecast', [])\n",
        "\n",
        "        if current is None:\n",
        "            print(f\"No current weather data for {location}.\")\n",
        "            return None\n",
        "\n",
        "        weather_data = {\n",
        "            'location': getattr(response, 'city_name', location),\n",
        "            'current': {\n",
        "                'temperature': getattr(current, 'temperature', 'N/A'),\n",
        "                'condition': getattr(current, 'condition', 'N/A'),\n",
        "                'humidity': getattr(current, 'humidity', 'N/A')\n",
        "            },\n",
        "            'forecast': []\n",
        "        }\n",
        "\n",
        "        for day in forecast_list[:forecast_days]:\n",
        "            weather_data['forecast'].append({\n",
        "                'date': getattr(day, 'date', 'N/A'),\n",
        "                'temperature': getattr(day, 'temperature', 'N/A'),\n",
        "                'condition': getattr(day, 'condition', 'N/A'),\n",
        "                'precipitation': getattr(day, 'chance_of_rain', 'N/A')\n",
        "            })\n",
        "\n",
        "        return weather_data\n",
        "\n",
        "    except Exception as e:\n",
        "        print(f\"Error fetching weather data for {location}: {e}\")\n",
        "        return None"
      ]
    },
    {
      "cell_type": "code",
      "source": [
        "# Testing the function\n",
        "\n",
        "# weather = get_weather_data(\"Perth\", forecast_days=3)\n",
        "\n",
        "# if weather:\n",
        "#     print(\"Location:\", weather['location'])\n",
        "#     print(\"Current Temp:\", weather['current']['temperature'])\n",
        "#     print(\"Forecast:\")\n",
        "#     for day in weather['forecast']:\n",
        "#         print(f\" - {day['date']}: {day['temperature']}°C, {day['condition']}\")\n",
        "\n",
        "# Test for Printing the full dictionary to see all data\n",
        "# print(\"\\nFull weather data dictionary:\")\n",
        "# print(weather)\n",
        "\n",
        "# weather = get_weather_data(\"Perth\", forecast_days=3)\n",
        "# print(weather)"
      ],
      "metadata": {
        "id": "YuKxvFD8S6EC"
      },
      "id": "YuKxvFD8S6EC",
      "execution_count": null,
      "outputs": []
    },
    {
      "cell_type": "markdown",
      "id": "8a744fdc",
      "metadata": {
        "id": "8a744fdc"
      },
      "source": [
        "## 📊 Visualisation Functions"
      ]
    },
    {
      "cell_type": "code",
      "execution_count": null,
      "id": "9dc3bf85",
      "metadata": {
        "id": "9dc3bf85"
      },
      "outputs": [],
      "source": [
        "# Define create_temperature_visualisation() here\n",
        "\n",
        "def create_temperature_visualisation(weather_data, output_type='display'):\n",
        "    \"\"\"\n",
        "    Create a visualisation of temperature data over forecast days.\n",
        "\n",
        "    Args:\n",
        "        weather_data (dict): The processed weather data\n",
        "        output_type (str): 'display' to show chart, 'figure' to return figure object\n",
        "\n",
        "    Returns:\n",
        "        If output_type='figure', returns matplotlib figure object; else displays chart\n",
        "    \"\"\"\n",
        "    try:\n",
        "        dates = [day['date'] for day in weather_data['forecast']]\n",
        "        temps = [day['temperature'] for day in weather_data['forecast']]\n",
        "\n",
        "        fig, ax = plt.subplots(figsize=(8,4))\n",
        "        ax.plot(dates, temps, marker='o', linestyle='-', color='orange')\n",
        "        ax.set_title(f\"Temperature Forecast for {weather_data['location']}\")\n",
        "        ax.set_xlabel(\"Date\")\n",
        "        ax.set_ylabel(\"Temperature (°C)\")\n",
        "        ax.grid(True)\n",
        "\n",
        "        if output_type == 'figure':\n",
        "            return fig\n",
        "        else:\n",
        "            plt.show()\n",
        "\n",
        "    except Exception as e:\n",
        "        print(f\"Error creating temperature visualisation: {e}\")"
      ]
    },
    {
      "cell_type": "code",
      "source": [
        "# create_precipitation_visualisation() here\n",
        "\n",
        "def create_precipitation_visualisation(weather_data, output_type='display'):\n",
        "    \"\"\"\n",
        "    Create a visualisation of precipitation chances over forecast days.\n",
        "\n",
        "    Args:\n",
        "        weather_data (dict): The processed weather data\n",
        "        output_type (str): 'display' to show chart, 'figure' to return figure object\n",
        "\n",
        "    Returns:\n",
        "        If output_type='figure', returns matplotlib figure object; else displays chart\n",
        "    \"\"\"\n",
        "    try:\n",
        "        dates = [day['date'] for day in weather_data['forecast']]\n",
        "        precip = [day.get('precipitation', 0) for day in weather_data['forecast']]\n",
        "\n",
        "        fig, ax = plt.subplots(figsize=(8,4))\n",
        "        ax.bar(dates, precip, color='skyblue')\n",
        "        ax.set_title(f\"Precipitation Forecast for {weather_data['location']}\")\n",
        "        ax.set_xlabel(\"Date\")\n",
        "        ax.set_ylabel(\"Precipitation Chance (%)\")\n",
        "        ax.grid(axis='y')\n",
        "\n",
        "        if output_type == 'figure':\n",
        "            return fig\n",
        "        else:\n",
        "            plt.show()\n",
        "\n",
        "    except Exception as e:\n",
        "        print(f\"Error creating precipitation visualisation: {e}\")"
      ],
      "metadata": {
        "id": "HpOlQylYG5Ho"
      },
      "id": "HpOlQylYG5Ho",
      "execution_count": null,
      "outputs": []
    },
    {
      "cell_type": "code",
      "source": [
        "# Testing visualisations here\n",
        "# if weather:\n",
        "#     create_temperature_visualisation(weather)\n",
        "#     create_precipitation_visualisation(weather)"
      ],
      "metadata": {
        "id": "lkCqu8KkS1IJ"
      },
      "id": "lkCqu8KkS1IJ",
      "execution_count": null,
      "outputs": []
    },
    {
      "cell_type": "markdown",
      "id": "9f95d160",
      "metadata": {
        "id": "9f95d160"
      },
      "source": [
        "## 🤖 Natural Language Processing"
      ]
    },
    {
      "cell_type": "code",
      "execution_count": null,
      "id": "bcc5833e",
      "metadata": {
        "id": "bcc5833e"
      },
      "outputs": [],
      "source": [
        "# Define parse_weather_question() and generate_weather_response() here\n",
        "\n",
        "def parse_weather_question(question):\n",
        "    \"\"\"\n",
        "    Parse a natural language weather question.\n",
        "\n",
        "    Args:\n",
        "        question (str): User's weather-related question\n",
        "\n",
        "    Returns:\n",
        "        dict: Extracted information including location, time period, and weather attribute\n",
        "    \"\"\"\n",
        "    # Simple rule-based parsing\n",
        "    question = question.lower()\n",
        "\n",
        "    parsed = {\n",
        "        'location': None,\n",
        "        'days': 1,\n",
        "        'attribute': 'temperature'  # default\n",
        "    }\n",
        "\n",
        "    # Extract location (assume after 'in')\n",
        "    if \" in \" in question:\n",
        "        parsed['location'] = question.split(\" in \")[1].split()[0].capitalize()\n",
        "\n",
        "    # Extract time period\n",
        "    if \"today\" in question:\n",
        "        parsed['days'] = 1\n",
        "    elif \"tomorrow\" in question:\n",
        "        parsed['days'] = 2\n",
        "    elif \"next\" in question:\n",
        "        parsed['days'] = 3\n",
        "\n",
        "    # Extract weather attribute\n",
        "    if \"rain\" in question or \"precipitation\" in question:\n",
        "        parsed['attribute'] = 'precipitation'\n",
        "    elif \"temperature\" in question or \"hot\" in question or \"cold\" in question:\n",
        "        parsed['attribute'] = 'temperature'\n",
        "\n",
        "    return parsed\n",
        "\n",
        "def generate_weather_response(parsed_question, weather_data):\n",
        "    \"\"\"\n",
        "    Generate a natural language response to a weather question.\n",
        "\n",
        "    Args:\n",
        "        parsed_question (dict): Parsed question data\n",
        "        weather_data (dict): Weather data\n",
        "\n",
        "    Returns:\n",
        "        str: Natural language response\n",
        "    \"\"\"\n",
        "    if not weather_data:\n",
        "        return \"Sorry, no weather data available.\"\n",
        "\n",
        "    # Determine day index\n",
        "    day_index = min(parsed_question['days']-1, len(weather_data['forecast'])-1)\n",
        "    day_weather = weather_data['forecast'][day_index]\n",
        "\n",
        "    attribute = parsed_question['attribute']\n",
        "    value = day_weather.get(attribute, \"N/A\")\n",
        "\n",
        "    response = f\"The {attribute} in {weather_data['location']} on {day_weather['date']} will be {value}\"\n",
        "    if attribute == 'temperature':\n",
        "        response += \"°C.\"\n",
        "    elif attribute == 'precipitation':\n",
        "        response += \"% chance of rain.\"\n",
        "\n",
        "    return response"
      ]
    },
    {
      "cell_type": "code",
      "source": [
        "# Testing the NLP functions\n",
        "# question = \"What is the rain forecast in London tomorrow?\"\n",
        "# parsed = parse_weather_question(question)\n",
        "# response = generate_weather_response(parsed, weather)\n",
        "\n",
        "# print(\"Parsed Question:\", parsed)\n",
        "# print(\"Response:\", response)"
      ],
      "metadata": {
        "id": "MAmebZCQSnKT"
      },
      "id": "MAmebZCQSnKT",
      "execution_count": null,
      "outputs": []
    },
    {
      "cell_type": "markdown",
      "id": "0d85225e",
      "metadata": {
        "id": "0d85225e"
      },
      "source": [
        "## 🧭 User Interface"
      ]
    },
    {
      "cell_type": "code",
      "execution_count": null,
      "id": "fa6cb0f6",
      "metadata": {
        "id": "fa6cb0f6"
      },
      "outputs": [],
      "source": [
        "# Define menu functions using pyinputplus here\n",
        "\n",
        "def display_menu():\n",
        "    import pyinputplus as pyip\n",
        "\n",
        "    while True:\n",
        "        print(\"\\n🌦️ Welcome to WeatherWise\")\n",
        "        print(\"1. View current weather and forecast\")\n",
        "        print(\"2. Visualise temperature trends\")\n",
        "        print(\"3. Visualise precipitation chances\")\n",
        "        print(\"4. Ask a weather question!\")\n",
        "        print(\"5. Exit\")\n",
        "\n",
        "        choice = pyip.inputInt(\"Enter your choice (1-5): \", min=1, max=5)\n",
        "\n",
        "        if choice == 1:\n",
        "            location = pyip.inputStr(\"Enter city name: \")\n",
        "            weather_data = get_weather_data(location)\n",
        "\n",
        "            if weather_data:\n",
        "                print(f\"\\n🌤️ Current weather in {weather_data['location']}:\")\n",
        "                print(f\"Temperature: {weather_data['current']['temperature']}°C\")\n",
        "                print(f\"Condition: {weather_data['current']['condition']}\")\n",
        "                print(f\"Humidity: {weather_data['current']['humidity']}%\")\n",
        "\n",
        "                print(\"\\n📅 Forecast:\")\n",
        "                for day in weather_data['forecast']:\n",
        "                    print(f\"{day['date']}: {day['temperature']}°C, {day['condition']}, {day['precipitation']}% chance of rain\")\n",
        "            else:\n",
        "                print(f\"Could not fetch weather data for {location}. Please try another city.\")\n",
        "\n",
        "        elif choice == 2:\n",
        "            if 'weather_data' in locals() and weather_data:\n",
        "                create_temperature_visualisation(weather_data)\n",
        "            else:\n",
        "                print(\"Please fetch weather data first (Option 1).\")\n",
        "\n",
        "        elif choice == 3:\n",
        "            if 'weather_data' in locals() and weather_data:\n",
        "                create_precipitation_visualisation(weather_data)\n",
        "            else:\n",
        "                print(\"Please fetch weather data first (Option 1).\")\n",
        "\n",
        "        elif choice == 4:\n",
        "            if 'weather_data' in locals() and weather_data:\n",
        "                question = pyip.inputStr(\"Ask your weather question: \")\n",
        "                parsed = parse_weather_question(question)\n",
        "                response = generate_weather_response(parsed, weather_data)\n",
        "                print(\"\\n\" + response)\n",
        "            else:\n",
        "                print(\"Please fetch weather data first (Option 1).\")\n",
        "\n",
        "        elif choice == 5:\n",
        "            print(\"Exiting WeatherWise. Goodbye! 🌤️\")\n",
        "            break"
      ]
    },
    {
      "cell_type": "markdown",
      "id": "fde44479",
      "metadata": {
        "id": "fde44479"
      },
      "source": [
        "## 🧪 Testing and Examples"
      ]
    },
    {
      "cell_type": "code",
      "execution_count": null,
      "id": "4e573901",
      "metadata": {
        "id": "4e573901"
      },
      "outputs": [],
      "source": [
        "# Include sample input/output for each function\n",
        "# Fetch sample weather data\n",
        "sample_weather = get_weather_data(\"Perth\", forecast_days=3)\n",
        "print(\"Sample weather data fetched for testing.\")\n",
        "\n",
        "# Display current weather\n",
        "if sample_weather:\n",
        "    print(\"\\nCurrent Weather:\")\n",
        "    print(sample_weather['current'])\n",
        "\n",
        "# Display forecast\n",
        "print(\"\\nForecast:\")\n",
        "for day in sample_weather['forecast']:\n",
        "    print(f\"{day['date']}: {day['temperature']}°C, {day['condition']}\")\n",
        "\n",
        "# Visualisations\n",
        "print(\"\\nTemperature Visualisation:\")\n",
        "create_temperature_visualisation(sample_weather)\n",
        "\n",
        "print(\"\\nPrecipitation Visualisation:\")\n",
        "create_precipitation_visualisation(sample_weather)"
      ]
    },
    {
      "cell_type": "code",
      "source": [
        "# Test NLP\n",
        "# sample_question = \"What is the rain forecast in Perth tomorrow?\"\n",
        "# parsed = parse_weather_question(sample_question)\n",
        "# response = generate_weather_response(parsed, sample_weather)\n",
        "\n",
        "# print(\"\\nSample NLP Question:\")\n",
        "# print(\"Question:\", sample_question)\n",
        "# print(\"Parsed:\", parsed)\n",
        "# print(\"Response:\", response)"
      ],
      "metadata": {
        "id": "GWxgVQe4y8qw"
      },
      "id": "GWxgVQe4y8qw",
      "execution_count": null,
      "outputs": []
    },
    {
      "cell_type": "markdown",
      "id": "d643a53c",
      "metadata": {
        "id": "d643a53c"
      },
      "source": [
        "## 🧩 Main Application Logic"
      ]
    },
    {
      "cell_type": "code",
      "source": [
        "# Run the WeatherWise menu\n",
        "display_menu()"
      ],
      "metadata": {
        "id": "X3KTvh-VUA5F"
      },
      "id": "X3KTvh-VUA5F",
      "execution_count": null,
      "outputs": []
    },
    {
      "cell_type": "markdown",
      "id": "d2885880",
      "metadata": {
        "id": "d2885880"
      },
      "source": [
        "## 🗂️ AI Prompting Log (Optional)\n",
        "Add markdown cells here summarising prompts used or link to AI conversations in the `ai-conversations/` folder."
      ]
    }
  ],
  "metadata": {
    "language_info": {
      "name": "python"
    },
    "colab": {
      "provenance": [],
      "include_colab_link": true
    },
    "kernelspec": {
      "name": "python3",
      "display_name": "Python 3"
    }
  },
  "nbformat": 4,
  "nbformat_minor": 5
}