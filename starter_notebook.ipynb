{
  "cells": [
    {
      "cell_type": "markdown",
      "metadata": {
        "id": "view-in-github",
        "colab_type": "text"
      },
      "source": [
        "<a href=\"https://colab.research.google.com/github/anikanair143/weather_wise_anikanair/blob/main/starter_notebook.ipynb\" target=\"_parent\"><img src=\"https://colab.research.google.com/assets/colab-badge.svg\" alt=\"Open In Colab\"/></a>"
      ]
    },
    {
      "cell_type": "markdown",
      "id": "72e78a05",
      "metadata": {
        "id": "72e78a05"
      },
      "source": [
        "# 🌦️ WeatherWise – Starter Notebook\n",
        "\n",
        "Welcome to your **WeatherWise** project notebook! This scaffold is designed to help you build your weather advisor app using Python, visualisations, and AI-enhanced development.\n",
        "\n",
        "---\n",
        "\n",
        "📄 **Full Assignment Specification**  \n",
        "See [`ASSIGNMENT.md`](ASSIGNMENT.md) or check the LMS for full details.\n",
        "\n",
        "📝 **Quick Refresher**  \n",
        "A one-page summary is available in [`resources/assignment-summary.md`](resources/assignment-summary.md).\n",
        "\n",
        "---\n",
        "\n",
        "🧠 **This Notebook Structure is Optional**  \n",
        "You’re encouraged to reorganise, rename sections, or remove scaffold cells if you prefer — as long as your final version meets the requirements.\n",
        "\n",
        "✅ You may delete this note before submission.\n",
        "\n"
      ]
    },
    {
      "cell_type": "markdown",
      "id": "fa8c7f6c",
      "metadata": {
        "id": "fa8c7f6c"
      },
      "source": [
        "## 🧰 Setup and Imports\n",
        "\n",
        "This section imports commonly used packages and installs any additional tools used in the project.\n",
        "\n",
        "- You may not need all of these unless you're using specific features (e.g. visualisations, advanced prompting).\n",
        "- The notebook assumes the following packages are **pre-installed** in the provided environment or installable via pip:\n",
        "  - `requests`, `matplotlib`, `pyinputplus`\n",
        "  - `fetch-my-weather` (for accessing weather data easily)\n",
        "  - `hands-on-ai` (for AI logging, comparisons, or prompting tools)\n",
        "\n",
        "If you're running this notebook in **Google Colab**, uncomment the following lines to install the required packages.\n"
      ]
    },
    {
      "cell_type": "markdown",
      "id": "59ae7543",
      "metadata": {
        "id": "59ae7543"
      },
      "source": [
        "## 📦 Setup and Configuration\n",
        "Import required packages and setup environment."
      ]
    },
    {
      "cell_type": "code",
      "execution_count": 1,
      "id": "f1dd051e",
      "metadata": {
        "id": "f1dd051e",
        "colab": {
          "base_uri": "https://localhost:8080/"
        },
        "outputId": "7f6b4227-8bc5-417d-afdb-d33d21664dc1"
      },
      "outputs": [
        {
          "output_type": "stream",
          "name": "stdout",
          "text": [
            "Collecting fetch-my-weather\n",
            "  Downloading fetch_my_weather-0.4.0-py3-none-any.whl.metadata (12 kB)\n",
            "Requirement already satisfied: requests>=2.25.0 in /usr/local/lib/python3.12/dist-packages (from fetch-my-weather) (2.32.4)\n",
            "Requirement already satisfied: pydantic>=1.8.0 in /usr/local/lib/python3.12/dist-packages (from fetch-my-weather) (2.11.10)\n",
            "Requirement already satisfied: annotated-types>=0.6.0 in /usr/local/lib/python3.12/dist-packages (from pydantic>=1.8.0->fetch-my-weather) (0.7.0)\n",
            "Requirement already satisfied: pydantic-core==2.33.2 in /usr/local/lib/python3.12/dist-packages (from pydantic>=1.8.0->fetch-my-weather) (2.33.2)\n",
            "Requirement already satisfied: typing-extensions>=4.12.2 in /usr/local/lib/python3.12/dist-packages (from pydantic>=1.8.0->fetch-my-weather) (4.15.0)\n",
            "Requirement already satisfied: typing-inspection>=0.4.0 in /usr/local/lib/python3.12/dist-packages (from pydantic>=1.8.0->fetch-my-weather) (0.4.2)\n",
            "Requirement already satisfied: charset_normalizer<4,>=2 in /usr/local/lib/python3.12/dist-packages (from requests>=2.25.0->fetch-my-weather) (3.4.4)\n",
            "Requirement already satisfied: idna<4,>=2.5 in /usr/local/lib/python3.12/dist-packages (from requests>=2.25.0->fetch-my-weather) (3.11)\n",
            "Requirement already satisfied: urllib3<3,>=1.21.1 in /usr/local/lib/python3.12/dist-packages (from requests>=2.25.0->fetch-my-weather) (2.5.0)\n",
            "Requirement already satisfied: certifi>=2017.4.17 in /usr/local/lib/python3.12/dist-packages (from requests>=2.25.0->fetch-my-weather) (2025.10.5)\n",
            "Downloading fetch_my_weather-0.4.0-py3-none-any.whl (17 kB)\n",
            "Installing collected packages: fetch-my-weather\n",
            "Successfully installed fetch-my-weather-0.4.0\n",
            "Collecting pyinputplus\n",
            "  Downloading PyInputPlus-0.2.12.tar.gz (20 kB)\n",
            "  Installing build dependencies ... \u001b[?25l\u001b[?25hdone\n",
            "  Getting requirements to build wheel ... \u001b[?25l\u001b[?25hdone\n",
            "  Preparing metadata (pyproject.toml) ... \u001b[?25l\u001b[?25hdone\n",
            "Collecting pysimplevalidate>=0.2.7 (from pyinputplus)\n",
            "  Downloading PySimpleValidate-0.2.12.tar.gz (22 kB)\n",
            "  Installing build dependencies ... \u001b[?25l\u001b[?25hdone\n",
            "  Getting requirements to build wheel ... \u001b[?25l\u001b[?25hdone\n",
            "  Preparing metadata (pyproject.toml) ... \u001b[?25l\u001b[?25hdone\n",
            "Collecting stdiomask>=0.0.3 (from pyinputplus)\n",
            "  Downloading stdiomask-0.0.6.tar.gz (3.6 kB)\n",
            "  Installing build dependencies ... \u001b[?25l\u001b[?25hdone\n",
            "  Getting requirements to build wheel ... \u001b[?25l\u001b[?25hdone\n",
            "  Preparing metadata (pyproject.toml) ... \u001b[?25l\u001b[?25hdone\n",
            "Building wheels for collected packages: pyinputplus, pysimplevalidate, stdiomask\n",
            "  Building wheel for pyinputplus (pyproject.toml) ... \u001b[?25l\u001b[?25hdone\n",
            "  Created wheel for pyinputplus: filename=pyinputplus-0.2.12-py3-none-any.whl size=11348 sha256=daf84bbf59e807847cb354ba64cad7325766ff29b400860f526402480aaf3f19\n",
            "  Stored in directory: /root/.cache/pip/wheels/85/81/c1/325c8199c5c4de8a0b9af900ff9cd8bd69853e3d9419493512\n",
            "  Building wheel for pysimplevalidate (pyproject.toml) ... \u001b[?25l\u001b[?25hdone\n",
            "  Created wheel for pysimplevalidate: filename=pysimplevalidate-0.2.12-py3-none-any.whl size=16225 sha256=e6a912f0bfcea28f2f5fae4eb6640d39e3561806cf79b8ef82fe292d07709a88\n",
            "  Stored in directory: /root/.cache/pip/wheels/09/de/18/4dd2be0dbdf31870c6f0abde43b0de197b1c095655ad7da5c2\n",
            "  Building wheel for stdiomask (pyproject.toml) ... \u001b[?25l\u001b[?25hdone\n",
            "  Created wheel for stdiomask: filename=stdiomask-0.0.6-py3-none-any.whl size=3358 sha256=b27a96623c963041439eb917056e52a501e21e3368195c2b0f6254d31238d211\n",
            "  Stored in directory: /root/.cache/pip/wheels/05/c7/e6/c66ff8c008b4d73f2db458feb4922075e7755853fe496e5135\n",
            "Successfully built pyinputplus pysimplevalidate stdiomask\n",
            "Installing collected packages: stdiomask, pysimplevalidate, pyinputplus\n",
            "Successfully installed pyinputplus-0.2.12 pysimplevalidate-0.2.12 stdiomask-0.0.6\n",
            "Requirement already satisfied: matplotlib in /usr/local/lib/python3.12/dist-packages (3.10.0)\n",
            "Requirement already satisfied: contourpy>=1.0.1 in /usr/local/lib/python3.12/dist-packages (from matplotlib) (1.3.3)\n",
            "Requirement already satisfied: cycler>=0.10 in /usr/local/lib/python3.12/dist-packages (from matplotlib) (0.12.1)\n",
            "Requirement already satisfied: fonttools>=4.22.0 in /usr/local/lib/python3.12/dist-packages (from matplotlib) (4.60.1)\n",
            "Requirement already satisfied: kiwisolver>=1.3.1 in /usr/local/lib/python3.12/dist-packages (from matplotlib) (1.4.9)\n",
            "Requirement already satisfied: numpy>=1.23 in /usr/local/lib/python3.12/dist-packages (from matplotlib) (2.0.2)\n",
            "Requirement already satisfied: packaging>=20.0 in /usr/local/lib/python3.12/dist-packages (from matplotlib) (25.0)\n",
            "Requirement already satisfied: pillow>=8 in /usr/local/lib/python3.12/dist-packages (from matplotlib) (11.3.0)\n",
            "Requirement already satisfied: pyparsing>=2.3.1 in /usr/local/lib/python3.12/dist-packages (from matplotlib) (3.2.5)\n",
            "Requirement already satisfied: python-dateutil>=2.7 in /usr/local/lib/python3.12/dist-packages (from matplotlib) (2.9.0.post0)\n",
            "Requirement already satisfied: six>=1.5 in /usr/local/lib/python3.12/dist-packages (from python-dateutil>=2.7->matplotlib) (1.17.0)\n",
            "Setup complete!\n"
          ]
        }
      ],
      "source": [
        "# Setup and Import packages and libraries\n",
        "\n",
        "!pip install fetch-my-weather\n",
        "# !pip install hands-on-ai\n",
        "!pip install pyinputplus\n",
        "!pip install matplotlib\n",
        "\n",
        "# import\n",
        "# import os\n",
        "import requests\n",
        "import matplotlib.pyplot as plt\n",
        "import pyinputplus as pyip\n",
        "# import Weather packages\n",
        "from fetch_my_weather import get_weather\n",
        "\n",
        "print(\"Setup complete!\")\n"
      ]
    },
    {
      "cell_type": "markdown",
      "id": "f736ade3",
      "metadata": {
        "id": "f736ade3"
      },
      "source": [
        "## 🌤️ Weather Data Functions"
      ]
    },
    {
      "cell_type": "code",
      "execution_count": 2,
      "id": "7a2c7cd0",
      "metadata": {
        "id": "7a2c7cd0"
      },
      "outputs": [],
      "source": [
        "# Define get_weather_data() function here\n",
        "# from fetch_my_weather import get_weather\n",
        "\n",
        "# response = get_weather(\"Perth\")\n",
        "# print(response)       # See the raw output\n",
        "# print(dir(response))  # List all attributes and methods\n",
        "\n",
        "def get_weather_data(location, forecast_days=5):\n",
        "    \"\"\"\n",
        "    Retrieve weather data for a specified location safely.\n",
        "    Returns a dictionary with current weather and forecast, using fallback data if real data is unavailable.\n",
        "    \"\"\"\n",
        "    try:\n",
        "        response = get_weather(location)\n",
        "        current = getattr(response, 'current_weather', None)\n",
        "        forecast_list = getattr(response, 'forecast', [])\n",
        "\n",
        "        if current is None:\n",
        "            print(f\"No current weather data for {location}.\")\n",
        "            print(\"Sample weather data fetched for testing.\")\n",
        "            return {\n",
        "                'location': location,\n",
        "                'current': {'temperature': 25, 'condition': 'Sunny', 'humidity': 40},\n",
        "                'forecast': [\n",
        "                    {'date': '2025-10-18', 'temperature': 26, 'condition': 'Cloudy', 'precipitation': 10},\n",
        "                    {'date': '2025-10-19', 'temperature': 24, 'condition': 'Rain', 'precipitation': 80},\n",
        "                    {'date': '2025-10-20', 'temperature': 23, 'condition': 'Sunny', 'precipitation': 5},\n",
        "                ]\n",
        "            }\n",
        "\n",
        "        weather_data = {\n",
        "            'location': getattr(response, 'city_name', location),\n",
        "            'current': {\n",
        "                'temperature': getattr(current, 'temperature', 'N/A'),\n",
        "                'condition': getattr(current, 'condition', 'N/A'),\n",
        "                'humidity': getattr(current, 'humidity', 'N/A')\n",
        "            },\n",
        "            'forecast': []\n",
        "        }\n",
        "\n",
        "        for day in forecast_list[:forecast_days]:\n",
        "            weather_data['forecast'].append({\n",
        "                'date': getattr(day, 'date', 'N/A'),\n",
        "                'temperature': getattr(day, 'temperature', 'N/A'),\n",
        "                'condition': getattr(day, 'condition', 'N/A'),\n",
        "                'precipitation': getattr(day, 'chance_of_rain', 'N/A')\n",
        "            })\n",
        "\n",
        "        return weather_data\n",
        "\n",
        "    except Exception as e:\n",
        "        print(f\"Error fetching weather data for {location}: {e}\")\n",
        "        return None"
      ]
    },
    {
      "cell_type": "code",
      "source": [
        "# Testing the function\n",
        "\n",
        "# weather = get_weather_data(\"Perth\", forecast_days=3)\n",
        "\n",
        "# if weather:\n",
        "#     print(\"Location:\", weather['location'])\n",
        "#     print(\"Current Temp:\", weather['current']['temperature'])\n",
        "#     print(\"Forecast:\")\n",
        "#     for day in weather['forecast']:\n",
        "#         print(f\" - {day['date']}: {day['temperature']}°C, {day['condition']}\")\n",
        "\n",
        "# Test for Printing the full dictionary to see all data\n",
        "# print(\"\\nFull weather data dictionary:\")\n",
        "# print(weather)\n",
        "\n",
        "# weather = get_weather_data(\"Perth\", forecast_days=3)\n",
        "# print(weather)"
      ],
      "metadata": {
        "id": "YuKxvFD8S6EC"
      },
      "id": "YuKxvFD8S6EC",
      "execution_count": 3,
      "outputs": []
    },
    {
      "cell_type": "markdown",
      "id": "8a744fdc",
      "metadata": {
        "id": "8a744fdc"
      },
      "source": [
        "## 📊 Visualisation Functions"
      ]
    },
    {
      "cell_type": "code",
      "execution_count": 4,
      "id": "9dc3bf85",
      "metadata": {
        "id": "9dc3bf85"
      },
      "outputs": [],
      "source": [
        "# Define create_temperature_visualisation() here\n",
        "\n",
        "def create_temperature_visualisation(weather_data, output_type='display'):\n",
        "    \"\"\"\n",
        "    Create a visualisation of temperature data over forecast days.\n",
        "\n",
        "    Args:\n",
        "        weather_data (dict): The processed weather data\n",
        "        output_type (str): 'display' to show chart, 'figure' to return figure object\n",
        "\n",
        "    Returns:\n",
        "        If output_type='figure', returns matplotlib figure object; else displays chart\n",
        "    \"\"\"\n",
        "    try:\n",
        "        dates = [day['date'] for day in weather_data['forecast']]\n",
        "        temps = [day['temperature'] for day in weather_data['forecast']]\n",
        "\n",
        "        fig, ax = plt.subplots(figsize=(8,4))\n",
        "        ax.plot(dates, temps, marker='o', linestyle='-', color='orange')\n",
        "        ax.set_title(f\"Temperature Forecast for {weather_data['location']}\")\n",
        "        ax.set_xlabel(\"Date\")\n",
        "        ax.set_ylabel(\"Temperature (°C)\")\n",
        "        ax.grid(True)\n",
        "\n",
        "        if output_type == 'figure':\n",
        "            return fig\n",
        "        else:\n",
        "            plt.show()\n",
        "\n",
        "    except Exception as e:\n",
        "        print(f\"Error creating temperature visualisation: {e}\")"
      ]
    },
    {
      "cell_type": "code",
      "source": [
        "# create_precipitation_visualisation() here\n",
        "\n",
        "def create_precipitation_visualisation(weather_data, output_type='display'):\n",
        "    \"\"\"\n",
        "    Create a visualisation of precipitation chances over forecast days.\n",
        "\n",
        "    Args:\n",
        "        weather_data (dict): The processed weather data\n",
        "        output_type (str): 'display' to show chart, 'figure' to return figure object\n",
        "\n",
        "    Returns:\n",
        "        If output_type='figure', returns matplotlib figure object; else displays chart\n",
        "    \"\"\"\n",
        "    try:\n",
        "        dates = [day['date'] for day in weather_data['forecast']]\n",
        "        precip = [day.get('precipitation', 0) for day in weather_data['forecast']]\n",
        "\n",
        "        fig, ax = plt.subplots(figsize=(8,4))\n",
        "        ax.bar(dates, precip, color='skyblue')\n",
        "        ax.set_title(f\"Precipitation Forecast for {weather_data['location']}\")\n",
        "        ax.set_xlabel(\"Date\")\n",
        "        ax.set_ylabel(\"Precipitation Chance (%)\")\n",
        "        ax.grid(axis='y')\n",
        "\n",
        "        if output_type == 'figure':\n",
        "            return fig\n",
        "        else:\n",
        "            plt.show()\n",
        "\n",
        "    except Exception as e:\n",
        "        print(f\"Error creating precipitation visualisation: {e}\")"
      ],
      "metadata": {
        "id": "HpOlQylYG5Ho"
      },
      "id": "HpOlQylYG5Ho",
      "execution_count": 5,
      "outputs": []
    },
    {
      "cell_type": "code",
      "source": [
        "# Testing visualisations here\n",
        "# if weather:\n",
        "#     create_temperature_visualisation(weather)\n",
        "#     create_precipitation_visualisation(weather)"
      ],
      "metadata": {
        "id": "lkCqu8KkS1IJ"
      },
      "id": "lkCqu8KkS1IJ",
      "execution_count": 6,
      "outputs": []
    },
    {
      "cell_type": "markdown",
      "id": "9f95d160",
      "metadata": {
        "id": "9f95d160"
      },
      "source": [
        "## 🤖 Natural Language Processing"
      ]
    },
    {
      "cell_type": "code",
      "execution_count": 7,
      "id": "bcc5833e",
      "metadata": {
        "id": "bcc5833e"
      },
      "outputs": [],
      "source": [
        "# Define parse_weather_question() and generate_weather_response() here\n",
        "\n",
        "def parse_weather_question(question):\n",
        "    \"\"\"\n",
        "    Parse a natural language weather question.\n",
        "\n",
        "    Args:\n",
        "        question (str): User's weather-related question\n",
        "\n",
        "    Returns:\n",
        "        dict: Extracted information including location, time period, and weather attribute\n",
        "    \"\"\"\n",
        "    # Simple rule-based parsing\n",
        "    question = question.lower()\n",
        "\n",
        "    parsed = {\n",
        "        'location': None,\n",
        "        'days': 1,\n",
        "        'attribute': 'temperature'  # default\n",
        "    }\n",
        "\n",
        "    # Extract location (assume after 'in')\n",
        "    if \" in \" in question:\n",
        "        parsed['location'] = question.split(\" in \")[1].split()[0].capitalize()\n",
        "\n",
        "    # Extract time period\n",
        "    if \"today\" in question:\n",
        "        parsed['days'] = 1\n",
        "    elif \"tomorrow\" in question:\n",
        "        parsed['days'] = 2\n",
        "    elif \"next\" in question:\n",
        "        parsed['days'] = 3\n",
        "\n",
        "    # Extract weather attribute\n",
        "    if \"rain\" in question or \"precipitation\" in question:\n",
        "        parsed['attribute'] = 'precipitation'\n",
        "    elif \"temperature\" in question or \"hot\" in question or \"cold\" in question:\n",
        "        parsed['attribute'] = 'temperature'\n",
        "\n",
        "    return parsed\n",
        "\n",
        "def generate_weather_response(parsed_question, weather_data):\n",
        "    \"\"\"\n",
        "    Generate a natural language response to a weather question.\n",
        "\n",
        "    Args:\n",
        "        parsed_question (dict): Parsed question data\n",
        "        weather_data (dict): Weather data\n",
        "\n",
        "    Returns:\n",
        "        str: Natural language response\n",
        "    \"\"\"\n",
        "    if not weather_data:\n",
        "        return \"Sorry, no weather data available.\"\n",
        "\n",
        "    # Determine day index\n",
        "    day_index = min(parsed_question['days']-1, len(weather_data['forecast'])-1)\n",
        "    day_weather = weather_data['forecast'][day_index]\n",
        "\n",
        "    attribute = parsed_question['attribute']\n",
        "    value = day_weather.get(attribute, \"N/A\")\n",
        "\n",
        "    response = f\"The {attribute} in {weather_data['location']} on {day_weather['date']} will be {value}\"\n",
        "    if attribute == 'temperature':\n",
        "        response += \"°C.\"\n",
        "    elif attribute == 'precipitation':\n",
        "        response += \"% chance of rain.\"\n",
        "\n",
        "    return response"
      ]
    },
    {
      "cell_type": "code",
      "source": [
        "# Testing the NLP functions\n",
        "# question = \"What is the rain forecast in London tomorrow?\"\n",
        "# parsed = parse_weather_question(question)\n",
        "# response = generate_weather_response(parsed, weather)\n",
        "\n",
        "# print(\"Parsed Question:\", parsed)\n",
        "# print(\"Response:\", response)"
      ],
      "metadata": {
        "id": "MAmebZCQSnKT"
      },
      "id": "MAmebZCQSnKT",
      "execution_count": 8,
      "outputs": []
    },
    {
      "cell_type": "markdown",
      "id": "0d85225e",
      "metadata": {
        "id": "0d85225e"
      },
      "source": [
        "## 🧭 User Interface"
      ]
    },
    {
      "cell_type": "code",
      "execution_count": 9,
      "id": "fa6cb0f6",
      "metadata": {
        "id": "fa6cb0f6"
      },
      "outputs": [],
      "source": [
        "# Define menu functions using pyinputplus here\n",
        "\n",
        "def display_menu():\n",
        "    import pyinputplus as pyip\n",
        "\n",
        "    while True:\n",
        "        print(\"\\n🌦️ Welcome to WeatherWise\")\n",
        "        print(\"1. View current weather and forecast\")\n",
        "        print(\"2. Visualise temperature trends\")\n",
        "        print(\"3. Visualise precipitation chances\")\n",
        "        print(\"4. Ask a weather question!\")\n",
        "        print(\"5. Exit\")\n",
        "\n",
        "        choice = pyip.inputInt(\"Enter your choice (1-5): \", min=1, max=5)\n",
        "\n",
        "        if choice == 1:\n",
        "            location = pyip.inputStr(\"Enter city name: \")\n",
        "            weather_data = get_weather_data(location)\n",
        "\n",
        "            if weather_data:\n",
        "                print(f\"\\n🌤️ Current weather in {weather_data['location']}:\")\n",
        "                print(f\"Temperature: {weather_data['current']['temperature']}°C\")\n",
        "                print(f\"Condition: {weather_data['current']['condition']}\")\n",
        "                print(f\"Humidity: {weather_data['current']['humidity']}%\")\n",
        "\n",
        "                print(\"\\n📅 Forecast:\")\n",
        "                for day in weather_data['forecast']:\n",
        "                    print(f\"{day['date']}: {day['temperature']}°C, {day['condition']}, {day['precipitation']}% chance of rain\")\n",
        "            else:\n",
        "                print(f\"Could not fetch weather data for {location}. Please try another city.\")\n",
        "\n",
        "        elif choice == 2:\n",
        "            if 'weather_data' in locals() and weather_data:\n",
        "                create_temperature_visualisation(weather_data)\n",
        "            else:\n",
        "                print(\"Please fetch weather data first (Option 1).\")\n",
        "\n",
        "        elif choice == 3:\n",
        "            if 'weather_data' in locals() and weather_data:\n",
        "                create_precipitation_visualisation(weather_data)\n",
        "            else:\n",
        "                print(\"Please fetch weather data first (Option 1).\")\n",
        "\n",
        "        elif choice == 4:\n",
        "            if 'weather_data' in locals() and weather_data:\n",
        "                question = pyip.inputStr(\"Ask your weather question: \")\n",
        "                parsed = parse_weather_question(question)\n",
        "                response = generate_weather_response(parsed, weather_data)\n",
        "                print(\"\\n\" + response)\n",
        "            else:\n",
        "                print(\"Please fetch weather data first (Option 1).\")\n",
        "\n",
        "        elif choice == 5:\n",
        "            print(\"Exiting WeatherWise. Goodbye! 🌤️\")\n",
        "            break"
      ]
    },
    {
      "cell_type": "markdown",
      "id": "fde44479",
      "metadata": {
        "id": "fde44479"
      },
      "source": [
        "## 🧪 Testing and Examples"
      ]
    },
    {
      "cell_type": "code",
      "source": [
        "# ===============================\n",
        "# 🧪 Testing & Examples\n",
        "# ===============================\n",
        "\n",
        "print(\"=== 🧪 Testing get_weather_data() ===\")\n",
        "sample_weather = get_weather_data(\"Perth\", forecast_days=3)\n",
        "\n",
        "if sample_weather:\n",
        "    print(f\"Location: {sample_weather['location']}\")\n",
        "    print(f\"Current Temp: {sample_weather['current']['temperature']}°C\")\n",
        "    print(f\"Condition: {sample_weather['current']['condition']}\")\n",
        "    print(f\"Humidity: {sample_weather['current']['humidity']}%\")\n",
        "else:\n",
        "    print(\"Weather data not available. Using fallback sample.\")\n",
        "\n",
        "# ✅ Safe Forecast Display\n",
        "if sample_weather and 'forecast' in sample_weather:\n",
        "    print(\"\\n=== 📅 Forecast ===\")\n",
        "    for day in sample_weather['forecast']:\n",
        "        print(f\"{day['date']}: {day['temperature']}°C, {day['condition']}\")\n",
        "else:\n",
        "    print(\"No forecast data available for display.\")\n",
        "\n",
        "# ✅ Temperature Visualisation Test\n",
        "print(\"\\n=== 📊 Testing Temperature Visualisation ===\")\n",
        "if sample_weather:\n",
        "    create_temperature_visualisation(sample_weather)\n",
        "else:\n",
        "    print(\"Skipping temperature visualisation (no data)\")\n",
        "\n",
        "# ✅ Precipitation Visualisation Test\n",
        "print(\"\\n=== 🌧️ Testing Precipitation Visualisation ===\")\n",
        "if sample_weather:\n",
        "    create_precipitation_visualisation(sample_weather)\n",
        "else:\n",
        "    print(\"Skipping precipitation visualisation (no data)\")\n",
        "\n",
        "# ✅ NLP Stub Test\n",
        "print(\"\\n=== 🤖 Testing NLP Response ===\")\n",
        "test_question = \"Will it rain today?\"\n",
        "parsed_question = parse_weather_question(test_question)\n",
        "response_text = generate_weather_response(parsed_question, sample_weather) if sample_weather else \"No weather data to answer.\"\n",
        "print(f\"User Question: {test_question}\")\n",
        "print(f\"AI Response: {response_text}\")"
      ],
      "metadata": {
        "colab": {
          "base_uri": "https://localhost:8080/",
          "height": 1000
        },
        "id": "AtX8d4Ejb_wU",
        "outputId": "2fadc442-8c7e-4ba5-ef8e-d1cb687b321f"
      },
      "id": "AtX8d4Ejb_wU",
      "execution_count": 10,
      "outputs": [
        {
          "output_type": "stream",
          "name": "stdout",
          "text": [
            "=== 🧪 Testing get_weather_data() ===\n",
            "No current weather data for Perth.\n",
            "Sample weather data fetched for testing.\n",
            "Location: Perth\n",
            "Current Temp: 25°C\n",
            "Condition: Sunny\n",
            "Humidity: 40%\n",
            "\n",
            "=== 📅 Forecast ===\n",
            "2025-10-18: 26°C, Cloudy\n",
            "2025-10-19: 24°C, Rain\n",
            "2025-10-20: 23°C, Sunny\n",
            "\n",
            "=== 📊 Testing Temperature Visualisation ===\n"
          ]
        },
        {
          "output_type": "display_data",
          "data": {
            "text/plain": [
              "<Figure size 800x400 with 1 Axes>"
            ],
            "image/png": "[encoded data removed]"
          },
          "metadata": {}
        },
        {
          "output_type": "stream",
          "name": "stdout",
          "text": [
            "\n",
            "=== 🌧️ Testing Precipitation Visualisation ===\n"
          ]
        },
        {
          "output_type": "display_data",
          "data": {
            "text/plain": [
              "<Figure size 800x400 with 1 Axes>"
            ],
            "image/png": "[encoded data removed]"
          },
          "metadata": {}
        },
        {
          "output_type": "stream",
          "name": "stdout",
          "text": [
            "\n",
            "=== 🤖 Testing NLP Response ===\n",
            "User Question: Will it rain today?\n",
            "AI Response: The precipitation in Perth on 2025-10-18 will be 10% chance of rain.\n"
          ]
        }
      ]
    },
    {
      "cell_type": "markdown",
      "source": [],
      "metadata": {
        "id": "prcndxVxaUKd"
      },
      "id": "prcndxVxaUKd"
    },
    {
      "cell_type": "code",
      "source": [
        "# Test NLP\n",
        "# sample_question = \"What is the rain forecast in Perth tomorrow?\"\n",
        "# parsed = parse_weather_question(sample_question)\n",
        "# response = generate_weather_response(parsed, sample_weather)\n",
        "\n",
        "# print(\"\\nSample NLP Question:\")\n",
        "# print(\"Question:\", sample_question)\n",
        "# print(\"Parsed:\", parsed)\n",
        "# print(\"Response:\", response)"
      ],
      "metadata": {
        "id": "GWxgVQe4y8qw"
      },
      "id": "GWxgVQe4y8qw",
      "execution_count": 11,
      "outputs": []
    },
    {
      "cell_type": "markdown",
      "id": "d643a53c",
      "metadata": {
        "id": "d643a53c"
      },
      "source": [
        "## 🧩 Main Application Logic"
      ]
    },
    {
      "cell_type": "code",
      "source": [
        "# Run the WeatherWise menu\n",
        "display_menu()"
      ],
      "metadata": {
        "id": "X3KTvh-VUA5F",
        "colab": {
          "base_uri": "https://localhost:8080/",
          "height": 1000
        },
        "outputId": "40e5a281-1c51-4fba-cc0a-4b84bdaa4095"
      },
      "id": "X3KTvh-VUA5F",
      "execution_count": null,
      "outputs": [
        {
          "name": "stdout",
          "output_type": "stream",
          "text": [
            "\n",
            "🌦️ Welcome to WeatherWise\n",
            "1. View current weather and forecast\n",
            "2. Visualise temperature trends\n",
            "3. Visualise precipitation chances\n",
            "4. Ask a weather question!\n",
            "5. Exit\n",
            "Enter your choice (1-5): 1\n",
            "Enter city name: perth\n",
            "No current weather data for perth.\n",
            "Sample weather data fetched for testing.\n",
            "\n",
            "🌤️ Current weather in perth:\n",
            "Temperature: 25°C\n",
            "Condition: Sunny\n",
            "Humidity: 40%\n",
            "\n",
            "📅 Forecast:\n",
            "2025-10-18: 26°C, Cloudy, 10% chance of rain\n",
            "2025-10-19: 24°C, Rain, 80% chance of rain\n",
            "2025-10-20: 23°C, Sunny, 5% chance of rain\n",
            "\n",
            "🌦️ Welcome to WeatherWise\n",
            "1. View current weather and forecast\n",
            "2. Visualise temperature trends\n",
            "3. Visualise precipitation chances\n",
            "4. Ask a weather question!\n",
            "5. Exit\n",
            "Enter your choice (1-5): 2\n"
          ]
        },
        {
          "output_type": "display_data",
          "data": {
            "text/plain": [
              "<Figure size 800x400 with 1 Axes>"
            ],
            "image/png": "[encoded data removed]"
          },
          "metadata": {}
        },
        {
          "name": "stdout",
          "output_type": "stream",
          "text": [
            "\n",
            "🌦️ Welcome to WeatherWise\n",
            "1. View current weather and forecast\n",
            "2. Visualise temperature trends\n",
            "3. Visualise precipitation chances\n",
            "4. Ask a weather question!\n",
            "5. Exit\n",
            "Enter your choice (1-5): 3\n"
          ]
        },
        {
          "output_type": "display_data",
          "data": {
            "text/plain": [
              "<Figure size 800x400 with 1 Axes>"
            ],
            "image/png": "[encoded data removed]"
          },
          "metadata": {}
        },
        {
          "output_type": "stream",
          "name": "stdout",
          "text": [
            "\n",
            "🌦️ Welcome to WeatherWise\n",
            "1. View current weather and forecast\n",
            "2. Visualise temperature trends\n",
            "3. Visualise precipitation chances\n",
            "4. Ask a weather question!\n",
            "5. Exit\n",
            "Enter your choice (1-5): 4\n",
            "Ask your weather question: will it rain tonight in perth?\n",
            "\n",
            "The precipitation in perth on 2025-10-18 will be 10% chance of rain.\n",
            "\n",
            "🌦️ Welcome to WeatherWise\n",
            "1. View current weather and forecast\n",
            "2. Visualise temperature trends\n",
            "3. Visualise precipitation chances\n",
            "4. Ask a weather question!\n",
            "5. Exit\n",
            "Enter your choice (1-5): will it rain tomorrow?\n",
            "'will it rain tomorrow?' is not an integer.\n",
            "Enter your choice (1-5): 4\n",
            "Ask your weather question: will it rain tomorrow?\n",
            "\n",
            "The precipitation in perth on 2025-10-19 will be 80% chance of rain.\n",
            "\n",
            "🌦️ Welcome to WeatherWise\n",
            "1. View current weather and forecast\n",
            "2. Visualise temperature trends\n",
            "3. Visualise precipitation chances\n",
            "4. Ask a weather question!\n",
            "5. Exit\n",
            "Enter your choice (1-5): 1\n",
            "Enter city name: perth\n",
            "No current weather data for perth.\n",
            "Sample weather data fetched for testing.\n",
            "\n",
            "🌤️ Current weather in perth:\n",
            "Temperature: 25°C\n",
            "Condition: Sunny\n",
            "Humidity: 40%\n",
            "\n",
            "📅 Forecast:\n",
            "2025-10-18: 26°C, Cloudy, 10% chance of rain\n",
            "2025-10-19: 24°C, Rain, 80% chance of rain\n",
            "2025-10-20: 23°C, Sunny, 5% chance of rain\n",
            "\n",
            "🌦️ Welcome to WeatherWise\n",
            "1. View current weather and forecast\n",
            "2. Visualise temperature trends\n",
            "3. Visualise precipitation chances\n",
            "4. Ask a weather question!\n",
            "5. Exit\n",
            "Enter your choice (1-5): "
          ]
        }
      ]
    },
    {
      "cell_type": "markdown",
      "id": "d2885880",
      "metadata": {
        "id": "d2885880"
      },
      "source": [
        "## 🗂️ AI Prompting Log (Optional)\n",
        "Add markdown cells here summarising prompts used or link to AI conversations in the `ai-conversations/` folder."
      ]
    }
  ],
  "metadata": {
    "language_info": {
      "name": "python"
    },
    "colab": {
      "provenance": [],
      "include_colab_link": true
    },
    "kernelspec": {
      "name": "python3",
      "display_name": "Python 3"
    }
  },
  "nbformat": 4,
  "nbformat_minor": 5
}